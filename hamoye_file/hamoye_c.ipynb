{
  "nbformat": 4,
  "nbformat_minor": 0,
  "metadata": {
    "colab": {
      "provenance": []
    },
    "kernelspec": {
      "name": "python3",
      "display_name": "Python 3"
    },
    "language_info": {
      "name": "python"
    }
  },
  "cells": [
    {
      "cell_type": "code",
      "execution_count": 69,
      "metadata": {
        "id": "VdyNCmNFApPX"
      },
      "outputs": [],
      "source": [
        "#importing libraries\n",
        "import pandas as pd\n",
        "import numpy as np\n",
        "import matplotlib.pyplot as plt\n",
        "%matplotlib inline"
      ]
    },
    {
      "cell_type": "code",
      "source": [
        "power_data = pd.read_csv('Data_for_UCI_named.csv')"
      ],
      "metadata": {
        "id": "ZRUTibZZCkl3"
      },
      "execution_count": 70,
      "outputs": []
    },
    {
      "cell_type": "code",
      "source": [
        "power_data.head()"
      ],
      "metadata": {
        "colab": {
          "base_uri": "https://localhost:8080/",
          "height": 270
        },
        "id": "_Q9vALqMC-vV",
        "outputId": "c5edb2e7-b57d-40e5-a606-77f356931b91"
      },
      "execution_count": 71,
      "outputs": [
        {
          "output_type": "execute_result",
          "data": {
            "text/plain": [
              "       tau1      tau2      tau3      tau4        p1        p2        p3  \\\n",
              "0  2.959060  3.079885  8.381025  9.780754  3.763085 -0.782604 -1.257395   \n",
              "1  9.304097  4.902524  3.047541  1.369357  5.067812 -1.940058 -1.872742   \n",
              "2  8.971707  8.848428  3.046479  1.214518  3.405158 -1.207456 -1.277210   \n",
              "3  0.716415  7.669600  4.486641  2.340563  3.963791 -1.027473 -1.938944   \n",
              "4  3.134112  7.608772  4.943759  9.857573  3.525811 -1.125531 -1.845975   \n",
              "\n",
              "         p4        g1        g2        g3        g4      stab     stabf  \n",
              "0 -1.723086  0.650456  0.859578  0.887445  0.958034  0.055347  unstable  \n",
              "1 -1.255012  0.413441  0.862414  0.562139  0.781760 -0.005957    stable  \n",
              "2 -0.920492  0.163041  0.766689  0.839444  0.109853  0.003471  unstable  \n",
              "3 -0.997374  0.446209  0.976744  0.929381  0.362718  0.028871  unstable  \n",
              "4 -0.554305  0.797110  0.455450  0.656947  0.820923  0.049860  unstable  "
            ],
            "text/html": [
              "\n",
              "  <div id=\"df-83f3844b-d597-400b-83c1-c9db7c540d6f\">\n",
              "    <div class=\"colab-df-container\">\n",
              "      <div>\n",
              "<style scoped>\n",
              "    .dataframe tbody tr th:only-of-type {\n",
              "        vertical-align: middle;\n",
              "    }\n",
              "\n",
              "    .dataframe tbody tr th {\n",
              "        vertical-align: top;\n",
              "    }\n",
              "\n",
              "    .dataframe thead th {\n",
              "        text-align: right;\n",
              "    }\n",
              "</style>\n",
              "<table border=\"1\" class=\"dataframe\">\n",
              "  <thead>\n",
              "    <tr style=\"text-align: right;\">\n",
              "      <th></th>\n",
              "      <th>tau1</th>\n",
              "      <th>tau2</th>\n",
              "      <th>tau3</th>\n",
              "      <th>tau4</th>\n",
              "      <th>p1</th>\n",
              "      <th>p2</th>\n",
              "      <th>p3</th>\n",
              "      <th>p4</th>\n",
              "      <th>g1</th>\n",
              "      <th>g2</th>\n",
              "      <th>g3</th>\n",
              "      <th>g4</th>\n",
              "      <th>stab</th>\n",
              "      <th>stabf</th>\n",
              "    </tr>\n",
              "  </thead>\n",
              "  <tbody>\n",
              "    <tr>\n",
              "      <th>0</th>\n",
              "      <td>2.959060</td>\n",
              "      <td>3.079885</td>\n",
              "      <td>8.381025</td>\n",
              "      <td>9.780754</td>\n",
              "      <td>3.763085</td>\n",
              "      <td>-0.782604</td>\n",
              "      <td>-1.257395</td>\n",
              "      <td>-1.723086</td>\n",
              "      <td>0.650456</td>\n",
              "      <td>0.859578</td>\n",
              "      <td>0.887445</td>\n",
              "      <td>0.958034</td>\n",
              "      <td>0.055347</td>\n",
              "      <td>unstable</td>\n",
              "    </tr>\n",
              "    <tr>\n",
              "      <th>1</th>\n",
              "      <td>9.304097</td>\n",
              "      <td>4.902524</td>\n",
              "      <td>3.047541</td>\n",
              "      <td>1.369357</td>\n",
              "      <td>5.067812</td>\n",
              "      <td>-1.940058</td>\n",
              "      <td>-1.872742</td>\n",
              "      <td>-1.255012</td>\n",
              "      <td>0.413441</td>\n",
              "      <td>0.862414</td>\n",
              "      <td>0.562139</td>\n",
              "      <td>0.781760</td>\n",
              "      <td>-0.005957</td>\n",
              "      <td>stable</td>\n",
              "    </tr>\n",
              "    <tr>\n",
              "      <th>2</th>\n",
              "      <td>8.971707</td>\n",
              "      <td>8.848428</td>\n",
              "      <td>3.046479</td>\n",
              "      <td>1.214518</td>\n",
              "      <td>3.405158</td>\n",
              "      <td>-1.207456</td>\n",
              "      <td>-1.277210</td>\n",
              "      <td>-0.920492</td>\n",
              "      <td>0.163041</td>\n",
              "      <td>0.766689</td>\n",
              "      <td>0.839444</td>\n",
              "      <td>0.109853</td>\n",
              "      <td>0.003471</td>\n",
              "      <td>unstable</td>\n",
              "    </tr>\n",
              "    <tr>\n",
              "      <th>3</th>\n",
              "      <td>0.716415</td>\n",
              "      <td>7.669600</td>\n",
              "      <td>4.486641</td>\n",
              "      <td>2.340563</td>\n",
              "      <td>3.963791</td>\n",
              "      <td>-1.027473</td>\n",
              "      <td>-1.938944</td>\n",
              "      <td>-0.997374</td>\n",
              "      <td>0.446209</td>\n",
              "      <td>0.976744</td>\n",
              "      <td>0.929381</td>\n",
              "      <td>0.362718</td>\n",
              "      <td>0.028871</td>\n",
              "      <td>unstable</td>\n",
              "    </tr>\n",
              "    <tr>\n",
              "      <th>4</th>\n",
              "      <td>3.134112</td>\n",
              "      <td>7.608772</td>\n",
              "      <td>4.943759</td>\n",
              "      <td>9.857573</td>\n",
              "      <td>3.525811</td>\n",
              "      <td>-1.125531</td>\n",
              "      <td>-1.845975</td>\n",
              "      <td>-0.554305</td>\n",
              "      <td>0.797110</td>\n",
              "      <td>0.455450</td>\n",
              "      <td>0.656947</td>\n",
              "      <td>0.820923</td>\n",
              "      <td>0.049860</td>\n",
              "      <td>unstable</td>\n",
              "    </tr>\n",
              "  </tbody>\n",
              "</table>\n",
              "</div>\n",
              "      <button class=\"colab-df-convert\" onclick=\"convertToInteractive('df-83f3844b-d597-400b-83c1-c9db7c540d6f')\"\n",
              "              title=\"Convert this dataframe to an interactive table.\"\n",
              "              style=\"display:none;\">\n",
              "        \n",
              "  <svg xmlns=\"http://www.w3.org/2000/svg\" height=\"24px\"viewBox=\"0 0 24 24\"\n",
              "       width=\"24px\">\n",
              "    <path d=\"M0 0h24v24H0V0z\" fill=\"none\"/>\n",
              "    <path d=\"M18.56 5.44l.94 2.06.94-2.06 2.06-.94-2.06-.94-.94-2.06-.94 2.06-2.06.94zm-11 1L8.5 8.5l.94-2.06 2.06-.94-2.06-.94L8.5 2.5l-.94 2.06-2.06.94zm10 10l.94 2.06.94-2.06 2.06-.94-2.06-.94-.94-2.06-.94 2.06-2.06.94z\"/><path d=\"M17.41 7.96l-1.37-1.37c-.4-.4-.92-.59-1.43-.59-.52 0-1.04.2-1.43.59L10.3 9.45l-7.72 7.72c-.78.78-.78 2.05 0 2.83L4 21.41c.39.39.9.59 1.41.59.51 0 1.02-.2 1.41-.59l7.78-7.78 2.81-2.81c.8-.78.8-2.07 0-2.86zM5.41 20L4 18.59l7.72-7.72 1.47 1.35L5.41 20z\"/>\n",
              "  </svg>\n",
              "      </button>\n",
              "      \n",
              "  <style>\n",
              "    .colab-df-container {\n",
              "      display:flex;\n",
              "      flex-wrap:wrap;\n",
              "      gap: 12px;\n",
              "    }\n",
              "\n",
              "    .colab-df-convert {\n",
              "      background-color: #E8F0FE;\n",
              "      border: none;\n",
              "      border-radius: 50%;\n",
              "      cursor: pointer;\n",
              "      display: none;\n",
              "      fill: #1967D2;\n",
              "      height: 32px;\n",
              "      padding: 0 0 0 0;\n",
              "      width: 32px;\n",
              "    }\n",
              "\n",
              "    .colab-df-convert:hover {\n",
              "      background-color: #E2EBFA;\n",
              "      box-shadow: 0px 1px 2px rgba(60, 64, 67, 0.3), 0px 1px 3px 1px rgba(60, 64, 67, 0.15);\n",
              "      fill: #174EA6;\n",
              "    }\n",
              "\n",
              "    [theme=dark] .colab-df-convert {\n",
              "      background-color: #3B4455;\n",
              "      fill: #D2E3FC;\n",
              "    }\n",
              "\n",
              "    [theme=dark] .colab-df-convert:hover {\n",
              "      background-color: #434B5C;\n",
              "      box-shadow: 0px 1px 3px 1px rgba(0, 0, 0, 0.15);\n",
              "      filter: drop-shadow(0px 1px 2px rgba(0, 0, 0, 0.3));\n",
              "      fill: #FFFFFF;\n",
              "    }\n",
              "  </style>\n",
              "\n",
              "      <script>\n",
              "        const buttonEl =\n",
              "          document.querySelector('#df-83f3844b-d597-400b-83c1-c9db7c540d6f button.colab-df-convert');\n",
              "        buttonEl.style.display =\n",
              "          google.colab.kernel.accessAllowed ? 'block' : 'none';\n",
              "\n",
              "        async function convertToInteractive(key) {\n",
              "          const element = document.querySelector('#df-83f3844b-d597-400b-83c1-c9db7c540d6f');\n",
              "          const dataTable =\n",
              "            await google.colab.kernel.invokeFunction('convertToInteractive',\n",
              "                                                     [key], {});\n",
              "          if (!dataTable) return;\n",
              "\n",
              "          const docLinkHtml = 'Like what you see? Visit the ' +\n",
              "            '<a target=\"_blank\" href=https://colab.research.google.com/notebooks/data_table.ipynb>data table notebook</a>'\n",
              "            + ' to learn more about interactive tables.';\n",
              "          element.innerHTML = '';\n",
              "          dataTable['output_type'] = 'display_data';\n",
              "          await google.colab.output.renderOutput(dataTable, element);\n",
              "          const docLink = document.createElement('div');\n",
              "          docLink.innerHTML = docLinkHtml;\n",
              "          element.appendChild(docLink);\n",
              "        }\n",
              "      </script>\n",
              "    </div>\n",
              "  </div>\n",
              "  "
            ]
          },
          "metadata": {},
          "execution_count": 71
        }
      ]
    },
    {
      "cell_type": "code",
      "source": [
        "power_data.shape"
      ],
      "metadata": {
        "colab": {
          "base_uri": "https://localhost:8080/"
        },
        "id": "S6urLDF0DKEO",
        "outputId": "0f2a7352-a92c-4e5a-dc76-e46c9ea2939f"
      },
      "execution_count": 72,
      "outputs": [
        {
          "output_type": "execute_result",
          "data": {
            "text/plain": [
              "(10000, 14)"
            ]
          },
          "metadata": {},
          "execution_count": 72
        }
      ]
    },
    {
      "cell_type": "code",
      "source": [
        "power_data.isnull().sum()"
      ],
      "metadata": {
        "colab": {
          "base_uri": "https://localhost:8080/"
        },
        "id": "FY8zVFvzDOFT",
        "outputId": "ad247dc5-d943-40db-b081-8b578e8118c8"
      },
      "execution_count": 74,
      "outputs": [
        {
          "output_type": "execute_result",
          "data": {
            "text/plain": [
              "tau1     0\n",
              "tau2     0\n",
              "tau3     0\n",
              "tau4     0\n",
              "p1       0\n",
              "p2       0\n",
              "p3       0\n",
              "p4       0\n",
              "g1       0\n",
              "g2       0\n",
              "g3       0\n",
              "g4       0\n",
              "stab     0\n",
              "stabf    0\n",
              "dtype: int64"
            ]
          },
          "metadata": {},
          "execution_count": 74
        }
      ]
    },
    {
      "cell_type": "code",
      "source": [
        "power_data.info()"
      ],
      "metadata": {
        "colab": {
          "base_uri": "https://localhost:8080/"
        },
        "id": "UulxeudNDY3E",
        "outputId": "e240030d-2ec2-4942-a5f4-24b99716f829"
      },
      "execution_count": 75,
      "outputs": [
        {
          "output_type": "stream",
          "name": "stdout",
          "text": [
            "<class 'pandas.core.frame.DataFrame'>\n",
            "RangeIndex: 10000 entries, 0 to 9999\n",
            "Data columns (total 14 columns):\n",
            " #   Column  Non-Null Count  Dtype  \n",
            "---  ------  --------------  -----  \n",
            " 0   tau1    10000 non-null  float64\n",
            " 1   tau2    10000 non-null  float64\n",
            " 2   tau3    10000 non-null  float64\n",
            " 3   tau4    10000 non-null  float64\n",
            " 4   p1      10000 non-null  float64\n",
            " 5   p2      10000 non-null  float64\n",
            " 6   p3      10000 non-null  float64\n",
            " 7   p4      10000 non-null  float64\n",
            " 8   g1      10000 non-null  float64\n",
            " 9   g2      10000 non-null  float64\n",
            " 10  g3      10000 non-null  float64\n",
            " 11  g4      10000 non-null  float64\n",
            " 12  stab    10000 non-null  float64\n",
            " 13  stabf   10000 non-null  object \n",
            "dtypes: float64(13), object(1)\n",
            "memory usage: 1.1+ MB\n"
          ]
        }
      ]
    },
    {
      "cell_type": "code",
      "source": [
        "# As stab and stabf describe the stability feature of the system we will drop the stab feature and work with stabf.\n",
        "power_data = power_data.drop('stab', axis=1)"
      ],
      "metadata": {
        "id": "8668S1KcDt8k"
      },
      "execution_count": 76,
      "outputs": []
    },
    {
      "cell_type": "code",
      "source": [
        "power_data.head()"
      ],
      "metadata": {
        "colab": {
          "base_uri": "https://localhost:8080/",
          "height": 270
        },
        "id": "Pn7tXyqaFt-k",
        "outputId": "1ef55155-c0bd-4e62-ca23-b1ebf8efac01"
      },
      "execution_count": 77,
      "outputs": [
        {
          "output_type": "execute_result",
          "data": {
            "text/plain": [
              "       tau1      tau2      tau3      tau4        p1        p2        p3  \\\n",
              "0  2.959060  3.079885  8.381025  9.780754  3.763085 -0.782604 -1.257395   \n",
              "1  9.304097  4.902524  3.047541  1.369357  5.067812 -1.940058 -1.872742   \n",
              "2  8.971707  8.848428  3.046479  1.214518  3.405158 -1.207456 -1.277210   \n",
              "3  0.716415  7.669600  4.486641  2.340563  3.963791 -1.027473 -1.938944   \n",
              "4  3.134112  7.608772  4.943759  9.857573  3.525811 -1.125531 -1.845975   \n",
              "\n",
              "         p4        g1        g2        g3        g4     stabf  \n",
              "0 -1.723086  0.650456  0.859578  0.887445  0.958034  unstable  \n",
              "1 -1.255012  0.413441  0.862414  0.562139  0.781760    stable  \n",
              "2 -0.920492  0.163041  0.766689  0.839444  0.109853  unstable  \n",
              "3 -0.997374  0.446209  0.976744  0.929381  0.362718  unstable  \n",
              "4 -0.554305  0.797110  0.455450  0.656947  0.820923  unstable  "
            ],
            "text/html": [
              "\n",
              "  <div id=\"df-1bcfb497-ff49-4fbb-b010-3d4c678e11bf\">\n",
              "    <div class=\"colab-df-container\">\n",
              "      <div>\n",
              "<style scoped>\n",
              "    .dataframe tbody tr th:only-of-type {\n",
              "        vertical-align: middle;\n",
              "    }\n",
              "\n",
              "    .dataframe tbody tr th {\n",
              "        vertical-align: top;\n",
              "    }\n",
              "\n",
              "    .dataframe thead th {\n",
              "        text-align: right;\n",
              "    }\n",
              "</style>\n",
              "<table border=\"1\" class=\"dataframe\">\n",
              "  <thead>\n",
              "    <tr style=\"text-align: right;\">\n",
              "      <th></th>\n",
              "      <th>tau1</th>\n",
              "      <th>tau2</th>\n",
              "      <th>tau3</th>\n",
              "      <th>tau4</th>\n",
              "      <th>p1</th>\n",
              "      <th>p2</th>\n",
              "      <th>p3</th>\n",
              "      <th>p4</th>\n",
              "      <th>g1</th>\n",
              "      <th>g2</th>\n",
              "      <th>g3</th>\n",
              "      <th>g4</th>\n",
              "      <th>stabf</th>\n",
              "    </tr>\n",
              "  </thead>\n",
              "  <tbody>\n",
              "    <tr>\n",
              "      <th>0</th>\n",
              "      <td>2.959060</td>\n",
              "      <td>3.079885</td>\n",
              "      <td>8.381025</td>\n",
              "      <td>9.780754</td>\n",
              "      <td>3.763085</td>\n",
              "      <td>-0.782604</td>\n",
              "      <td>-1.257395</td>\n",
              "      <td>-1.723086</td>\n",
              "      <td>0.650456</td>\n",
              "      <td>0.859578</td>\n",
              "      <td>0.887445</td>\n",
              "      <td>0.958034</td>\n",
              "      <td>unstable</td>\n",
              "    </tr>\n",
              "    <tr>\n",
              "      <th>1</th>\n",
              "      <td>9.304097</td>\n",
              "      <td>4.902524</td>\n",
              "      <td>3.047541</td>\n",
              "      <td>1.369357</td>\n",
              "      <td>5.067812</td>\n",
              "      <td>-1.940058</td>\n",
              "      <td>-1.872742</td>\n",
              "      <td>-1.255012</td>\n",
              "      <td>0.413441</td>\n",
              "      <td>0.862414</td>\n",
              "      <td>0.562139</td>\n",
              "      <td>0.781760</td>\n",
              "      <td>stable</td>\n",
              "    </tr>\n",
              "    <tr>\n",
              "      <th>2</th>\n",
              "      <td>8.971707</td>\n",
              "      <td>8.848428</td>\n",
              "      <td>3.046479</td>\n",
              "      <td>1.214518</td>\n",
              "      <td>3.405158</td>\n",
              "      <td>-1.207456</td>\n",
              "      <td>-1.277210</td>\n",
              "      <td>-0.920492</td>\n",
              "      <td>0.163041</td>\n",
              "      <td>0.766689</td>\n",
              "      <td>0.839444</td>\n",
              "      <td>0.109853</td>\n",
              "      <td>unstable</td>\n",
              "    </tr>\n",
              "    <tr>\n",
              "      <th>3</th>\n",
              "      <td>0.716415</td>\n",
              "      <td>7.669600</td>\n",
              "      <td>4.486641</td>\n",
              "      <td>2.340563</td>\n",
              "      <td>3.963791</td>\n",
              "      <td>-1.027473</td>\n",
              "      <td>-1.938944</td>\n",
              "      <td>-0.997374</td>\n",
              "      <td>0.446209</td>\n",
              "      <td>0.976744</td>\n",
              "      <td>0.929381</td>\n",
              "      <td>0.362718</td>\n",
              "      <td>unstable</td>\n",
              "    </tr>\n",
              "    <tr>\n",
              "      <th>4</th>\n",
              "      <td>3.134112</td>\n",
              "      <td>7.608772</td>\n",
              "      <td>4.943759</td>\n",
              "      <td>9.857573</td>\n",
              "      <td>3.525811</td>\n",
              "      <td>-1.125531</td>\n",
              "      <td>-1.845975</td>\n",
              "      <td>-0.554305</td>\n",
              "      <td>0.797110</td>\n",
              "      <td>0.455450</td>\n",
              "      <td>0.656947</td>\n",
              "      <td>0.820923</td>\n",
              "      <td>unstable</td>\n",
              "    </tr>\n",
              "  </tbody>\n",
              "</table>\n",
              "</div>\n",
              "      <button class=\"colab-df-convert\" onclick=\"convertToInteractive('df-1bcfb497-ff49-4fbb-b010-3d4c678e11bf')\"\n",
              "              title=\"Convert this dataframe to an interactive table.\"\n",
              "              style=\"display:none;\">\n",
              "        \n",
              "  <svg xmlns=\"http://www.w3.org/2000/svg\" height=\"24px\"viewBox=\"0 0 24 24\"\n",
              "       width=\"24px\">\n",
              "    <path d=\"M0 0h24v24H0V0z\" fill=\"none\"/>\n",
              "    <path d=\"M18.56 5.44l.94 2.06.94-2.06 2.06-.94-2.06-.94-.94-2.06-.94 2.06-2.06.94zm-11 1L8.5 8.5l.94-2.06 2.06-.94-2.06-.94L8.5 2.5l-.94 2.06-2.06.94zm10 10l.94 2.06.94-2.06 2.06-.94-2.06-.94-.94-2.06-.94 2.06-2.06.94z\"/><path d=\"M17.41 7.96l-1.37-1.37c-.4-.4-.92-.59-1.43-.59-.52 0-1.04.2-1.43.59L10.3 9.45l-7.72 7.72c-.78.78-.78 2.05 0 2.83L4 21.41c.39.39.9.59 1.41.59.51 0 1.02-.2 1.41-.59l7.78-7.78 2.81-2.81c.8-.78.8-2.07 0-2.86zM5.41 20L4 18.59l7.72-7.72 1.47 1.35L5.41 20z\"/>\n",
              "  </svg>\n",
              "      </button>\n",
              "      \n",
              "  <style>\n",
              "    .colab-df-container {\n",
              "      display:flex;\n",
              "      flex-wrap:wrap;\n",
              "      gap: 12px;\n",
              "    }\n",
              "\n",
              "    .colab-df-convert {\n",
              "      background-color: #E8F0FE;\n",
              "      border: none;\n",
              "      border-radius: 50%;\n",
              "      cursor: pointer;\n",
              "      display: none;\n",
              "      fill: #1967D2;\n",
              "      height: 32px;\n",
              "      padding: 0 0 0 0;\n",
              "      width: 32px;\n",
              "    }\n",
              "\n",
              "    .colab-df-convert:hover {\n",
              "      background-color: #E2EBFA;\n",
              "      box-shadow: 0px 1px 2px rgba(60, 64, 67, 0.3), 0px 1px 3px 1px rgba(60, 64, 67, 0.15);\n",
              "      fill: #174EA6;\n",
              "    }\n",
              "\n",
              "    [theme=dark] .colab-df-convert {\n",
              "      background-color: #3B4455;\n",
              "      fill: #D2E3FC;\n",
              "    }\n",
              "\n",
              "    [theme=dark] .colab-df-convert:hover {\n",
              "      background-color: #434B5C;\n",
              "      box-shadow: 0px 1px 3px 1px rgba(0, 0, 0, 0.15);\n",
              "      filter: drop-shadow(0px 1px 2px rgba(0, 0, 0, 0.3));\n",
              "      fill: #FFFFFF;\n",
              "    }\n",
              "  </style>\n",
              "\n",
              "      <script>\n",
              "        const buttonEl =\n",
              "          document.querySelector('#df-1bcfb497-ff49-4fbb-b010-3d4c678e11bf button.colab-df-convert');\n",
              "        buttonEl.style.display =\n",
              "          google.colab.kernel.accessAllowed ? 'block' : 'none';\n",
              "\n",
              "        async function convertToInteractive(key) {\n",
              "          const element = document.querySelector('#df-1bcfb497-ff49-4fbb-b010-3d4c678e11bf');\n",
              "          const dataTable =\n",
              "            await google.colab.kernel.invokeFunction('convertToInteractive',\n",
              "                                                     [key], {});\n",
              "          if (!dataTable) return;\n",
              "\n",
              "          const docLinkHtml = 'Like what you see? Visit the ' +\n",
              "            '<a target=\"_blank\" href=https://colab.research.google.com/notebooks/data_table.ipynb>data table notebook</a>'\n",
              "            + ' to learn more about interactive tables.';\n",
              "          element.innerHTML = '';\n",
              "          dataTable['output_type'] = 'display_data';\n",
              "          await google.colab.output.renderOutput(dataTable, element);\n",
              "          const docLink = document.createElement('div');\n",
              "          docLink.innerHTML = docLinkHtml;\n",
              "          element.appendChild(docLink);\n",
              "        }\n",
              "      </script>\n",
              "    </div>\n",
              "  </div>\n",
              "  "
            ]
          },
          "metadata": {},
          "execution_count": 77
        }
      ]
    },
    {
      "cell_type": "code",
      "source": [
        "# value count for target variables\n",
        "power_data['stabf'].value_counts()"
      ],
      "metadata": {
        "colab": {
          "base_uri": "https://localhost:8080/"
        },
        "id": "UVVwHZMVFH1E",
        "outputId": "30d74c6e-b2df-4746-c065-811003a3583a"
      },
      "execution_count": 78,
      "outputs": [
        {
          "output_type": "execute_result",
          "data": {
            "text/plain": [
              "unstable    6380\n",
              "stable      3620\n",
              "Name: stabf, dtype: int64"
            ]
          },
          "metadata": {},
          "execution_count": 78
        }
      ]
    },
    {
      "cell_type": "code",
      "source": [
        "# select train and test set data\n",
        "x = power_data.drop(columns='stabf')\n",
        "y= power_data['stabf']"
      ],
      "metadata": {
        "id": "pJhGTu9dM0vU"
      },
      "execution_count": 79,
      "outputs": []
    },
    {
      "cell_type": "code",
      "source": [
        "x.shape, y.shape"
      ],
      "metadata": {
        "colab": {
          "base_uri": "https://localhost:8080/"
        },
        "id": "TrgjfattN7-V",
        "outputId": "d3d232d0-8c2b-4546-e9d8-18a5f8b46dd4"
      },
      "execution_count": 80,
      "outputs": [
        {
          "output_type": "execute_result",
          "data": {
            "text/plain": [
              "((10000, 12), (10000,))"
            ]
          },
          "metadata": {},
          "execution_count": 80
        }
      ]
    },
    {
      "cell_type": "code",
      "source": [
        "#split the data into training and testing sets\n",
        "\n",
        "from sklearn.model_selection import train_test_split\n",
        "\n",
        "x_train, x_test, y_train, y_test = train_test_split(x, y, test_size=0.2, random_state=1)\n",
        "\n",
        "print('X_train shape: {}'.format(x_train.shape))\n",
        "print('y_train shape: {}'.format(y_train.shape))\n",
        "print('X_test shape: {}'.format(x_test.shape))\n",
        "print('y_test shape: {}'.format(y_test.shape))"
      ],
      "metadata": {
        "id": "OVMEZ--tOCiC",
        "colab": {
          "base_uri": "https://localhost:8080/"
        },
        "outputId": "9bbba5eb-dda1-465a-8b8a-15d453af4331"
      },
      "execution_count": 82,
      "outputs": [
        {
          "output_type": "stream",
          "name": "stdout",
          "text": [
            "X_train shape: (8000, 12)\n",
            "y_train shape: (8000,)\n",
            "X_test shape: (2000, 12)\n",
            "y_test shape: (2000,)\n"
          ]
        }
      ]
    },
    {
      "cell_type": "code",
      "source": [
        "#Use the standard scaler to transform the x_train and x_test.\n",
        "from sklearn.preprocessing import StandardScaler\n",
        "scaler = StandardScaler()\n",
        "\n",
        "normalised_train_df = pd.DataFrame(scaler.fit_transform(x_train), columns = x_train.columns)\n",
        "normalised_test_df = pd.DataFrame(scaler.transform(x_test), columns = x_test.columns)\n"
      ],
      "metadata": {
        "id": "Z5jqJYGKOsK0"
      },
      "execution_count": 83,
      "outputs": []
    },
    {
      "cell_type": "code",
      "source": [
        "##import all the classifiers required and the metrics\n",
        "from sklearn.ensemble import RandomForestClassifier\n",
        "from sklearn.ensemble import ExtraTreesClassifier\n",
        "from xgboost import XGBClassifier\n",
        "from lightgbm import LGBMClassifier\n",
        "from sklearn.metrics import recall_score, classification_report, accuracy_score, precision_score, f1_score, confusion_matrix"
      ],
      "metadata": {
        "id": "4j5-3njtTBbJ"
      },
      "execution_count": 84,
      "outputs": []
    },
    {
      "cell_type": "markdown",
      "source": [
        "Question 1"
      ],
      "metadata": {
        "id": "9Ibst1IdT5NC"
      }
    },
    {
      "cell_type": "markdown",
      "source": [
        "RandomForestClassifier"
      ],
      "metadata": {
        "id": "mDwNiFw2UFvl"
      }
    },
    {
      "cell_type": "code",
      "source": [
        "from sklearn.ensemble import RandomForestClassifier\n",
        "\n",
        "rfc = RandomForestClassifier(random_state = 1)\n",
        "\n",
        "#fit on train set\n",
        "rfc.fit(normalised_train_df, y_train)"
      ],
      "metadata": {
        "colab": {
          "base_uri": "https://localhost:8080/"
        },
        "id": "wcUd7O_UUES6",
        "outputId": "82c7179b-64f7-40ce-9fab-807885a5405b"
      },
      "execution_count": 85,
      "outputs": [
        {
          "output_type": "execute_result",
          "data": {
            "text/plain": [
              "RandomForestClassifier(random_state=1)"
            ]
          },
          "metadata": {},
          "execution_count": 85
        }
      ]
    },
    {
      "cell_type": "code",
      "source": [
        "#make prediction on test data\n",
        "rfc_pred = rfc.predict(normalised_test_df)\n",
        "rfc_pred"
      ],
      "metadata": {
        "colab": {
          "base_uri": "https://localhost:8080/"
        },
        "id": "yIuS96T1U2I8",
        "outputId": "95369a13-20e1-4fd9-8284-4e99cfdbf156"
      },
      "execution_count": 86,
      "outputs": [
        {
          "output_type": "execute_result",
          "data": {
            "text/plain": [
              "array(['unstable', 'unstable', 'stable', ..., 'stable', 'stable',\n",
              "       'unstable'], dtype=object)"
            ]
          },
          "metadata": {},
          "execution_count": 86
        }
      ]
    },
    {
      "cell_type": "markdown",
      "source": [
        "Measure Model Performance for RandomForestClassifier"
      ],
      "metadata": {
        "id": "CJrGRBnuVZ5l"
      }
    },
    {
      "cell_type": "markdown",
      "source": [
        "Question 14"
      ],
      "metadata": {
        "id": "u80EoS-IXDmG"
      }
    },
    {
      "cell_type": "code",
      "source": [
        "#model accuracy\n",
        "accuracy = accuracy_score(y_test, rfc_pred)\n",
        "print('Accuracy: {}'.format(round(accuracy*100), 4))\n",
        "print('Accuracy: {}'.format(round(accuracy_score(y_test, rfc_pred), 5)))"
      ],
      "metadata": {
        "colab": {
          "base_uri": "https://localhost:8080/"
        },
        "id": "jLMmfnLJVZFJ",
        "outputId": "e1dd1bff-5515-4c27-cf5f-73a71e15ef4b"
      },
      "execution_count": 88,
      "outputs": [
        {
          "output_type": "stream",
          "name": "stdout",
          "text": [
            "Accuracy: 93\n",
            "Accuracy: 0.929\n"
          ]
        }
      ]
    },
    {
      "cell_type": "code",
      "source": [
        "# precision\n",
        "precision = precision_score(y_test, rfc_pred, pos_label='stable')\n",
        "print('Precision Score: {}'.format(round(precision*100), 4))"
      ],
      "metadata": {
        "colab": {
          "base_uri": "https://localhost:8080/"
        },
        "id": "mpTCo4uHVUXQ",
        "outputId": "b3a17546-fd5d-4d43-e93b-de987ecac617"
      },
      "execution_count": 89,
      "outputs": [
        {
          "output_type": "stream",
          "name": "stdout",
          "text": [
            "Precision Score: 92\n"
          ]
        }
      ]
    },
    {
      "cell_type": "code",
      "source": [
        "# recall\n",
        "recall = recall_score(y_test, rfc_pred, pos_label='stable')\n",
        "print('Recall Score: {}'.format(round(recall*100), 4))"
      ],
      "metadata": {
        "colab": {
          "base_uri": "https://localhost:8080/"
        },
        "id": "G3HJDYtnXX5h",
        "outputId": "409d21ed-81fd-4d31-c7d3-ca064b6bb5d4"
      },
      "execution_count": 90,
      "outputs": [
        {
          "output_type": "stream",
          "name": "stdout",
          "text": [
            "Recall Score: 88\n"
          ]
        }
      ]
    },
    {
      "cell_type": "code",
      "source": [
        "# F1 Score\n",
        "f1 = f1_score(y_test, rfc_pred, pos_label='stable')\n",
        "print('F1 Score: {}'.format(round(f1*100), 4))"
      ],
      "metadata": {
        "colab": {
          "base_uri": "https://localhost:8080/"
        },
        "id": "MTkJkFJDXlYs",
        "outputId": "7cc500d9-d94f-4e45-fd66-c216ab30c9d4"
      },
      "execution_count": 91,
      "outputs": [
        {
          "output_type": "stream",
          "name": "stdout",
          "text": [
            "F1 Score: 90\n"
          ]
        }
      ]
    },
    {
      "cell_type": "code",
      "source": [
        "# classification report\n",
        "print('Classification Report:\\n', classification_report(y_test,rfc_pred, digits =3))"
      ],
      "metadata": {
        "colab": {
          "base_uri": "https://localhost:8080/"
        },
        "id": "8YpFSfxXX32h",
        "outputId": "ec00b45f-bf06-4bf1-bc7b-6d85a76abb7f"
      },
      "execution_count": 93,
      "outputs": [
        {
          "output_type": "stream",
          "name": "stdout",
          "text": [
            "Classification Report:\n",
            "               precision    recall  f1-score   support\n",
            "\n",
            "      stable      0.919     0.878     0.898       712\n",
            "    unstable      0.934     0.957     0.946      1288\n",
            "\n",
            "    accuracy                          0.929      2000\n",
            "   macro avg      0.927     0.918     0.922      2000\n",
            "weighted avg      0.929     0.929     0.929      2000\n",
            "\n"
          ]
        }
      ]
    },
    {
      "cell_type": "code",
      "source": [
        "print(\"Training set score: {:.3f}\".format(rfc.score(normalised_train_df, y_train)))"
      ],
      "metadata": {
        "colab": {
          "base_uri": "https://localhost:8080/"
        },
        "id": "ktF2WXLzXp9f",
        "outputId": "93de46cf-c9cb-4647-c7dd-566166c9e34c"
      },
      "execution_count": 94,
      "outputs": [
        {
          "output_type": "stream",
          "name": "stdout",
          "text": [
            "Training set score: 1.000\n"
          ]
        }
      ]
    },
    {
      "cell_type": "code",
      "source": [
        "#confusion matrix\n",
        "rfc_cnf_mat = confusion_matrix(y_test, rfc_pred, labels=['unstable', 'stable'])\n",
        "print('Confusion Matrix:\\n', rfc_cnf_mat)\n",
        "     "
      ],
      "metadata": {
        "colab": {
          "base_uri": "https://localhost:8080/"
        },
        "id": "AZSDR0yqar3w",
        "outputId": "feaaf3d5-fdb6-4d09-d375-8009eb0d3873"
      },
      "execution_count": 95,
      "outputs": [
        {
          "output_type": "stream",
          "name": "stdout",
          "text": [
            "Confusion Matrix:\n",
            " [[1233   55]\n",
            " [  87  625]]\n"
          ]
        }
      ]
    },
    {
      "cell_type": "markdown",
      "source": [
        "Question 15"
      ],
      "metadata": {
        "id": "VJa7Iu83dntG"
      }
    },
    {
      "cell_type": "markdown",
      "source": [
        "XGBoostClassifier"
      ],
      "metadata": {
        "id": "CZUiI0lWYV2B"
      }
    },
    {
      "cell_type": "code",
      "source": [
        "from xgboost import XGBClassifier\n",
        "\n",
        "xgc= XGBClassifier(random_state = 1)\n",
        "\n",
        "#fit on train set\n",
        "xgc.fit(normalised_train_df, y_train)\n"
      ],
      "metadata": {
        "colab": {
          "base_uri": "https://localhost:8080/"
        },
        "id": "CB55ewgVYZfk",
        "outputId": "db5c49c2-c1b9-457a-aa65-17b25bd8014b"
      },
      "execution_count": 96,
      "outputs": [
        {
          "output_type": "execute_result",
          "data": {
            "text/plain": [
              "XGBClassifier(random_state=1)"
            ]
          },
          "metadata": {},
          "execution_count": 96
        }
      ]
    },
    {
      "cell_type": "code",
      "source": [
        "xgc_pred = xgc.predict(normalised_test_df)\n",
        "xgc_pred"
      ],
      "metadata": {
        "colab": {
          "base_uri": "https://localhost:8080/"
        },
        "id": "nBv2unWfY-sO",
        "outputId": "5853c9ab-0c92-476b-ab86-10258e5df508"
      },
      "execution_count": 98,
      "outputs": [
        {
          "output_type": "execute_result",
          "data": {
            "text/plain": [
              "array(['unstable', 'unstable', 'stable', ..., 'stable', 'unstable',\n",
              "       'unstable'], dtype=object)"
            ]
          },
          "metadata": {},
          "execution_count": 98
        }
      ]
    },
    {
      "cell_type": "markdown",
      "source": [
        "Measure Model Performance for XGBClassifier"
      ],
      "metadata": {
        "id": "QqvwqBIeZZJG"
      }
    },
    {
      "cell_type": "code",
      "source": [
        "#model accuracy\n",
        "xg_accuracy = accuracy_score(y_test, xgc_pred)\n",
        "print('Accuracy: {}'.format(round(xg_accuracy*100), 4))\n",
        "print('Accuracy: {}'.format(round(accuracy_score(y_test, xgc_pred), 4)))\n",
        "\n",
        "# precision\n",
        "xg_precision = precision_score(y_test, xgc_pred, pos_label='stable')\n",
        "print('Precision Score: {}'.format(round(xg_precision*100), 4))\n",
        "\n",
        "# recall\n",
        "xg_recall = recall_score(y_test, xgc_pred, pos_label='stable')\n",
        "print('Recall Score: {}'.format(round(xg_recall*100), 4))\n",
        "\n",
        "# F1 Score\n",
        "xg_f1 = f1_score(y_test, xgc_pred, pos_label='stable')\n",
        "print('F1 Score: {}'.format(round(xg_f1*100), 4))\n",
        "\n",
        "# classification report\n",
        "print('Classification Report:\\n', classification_report(y_test,xgc_pred, digits =3))\n",
        "\n",
        "#confusion matrix\n",
        "xg_cnf_mat = confusion_matrix(y_test, xgc_pred)\n",
        "print('Confusion Matrix:\\n', xg_cnf_mat)"
      ],
      "metadata": {
        "colab": {
          "base_uri": "https://localhost:8080/"
        },
        "id": "BduT-R-9ZRwb",
        "outputId": "07f8f8d2-c72e-4034-843d-d4164822ef66"
      },
      "execution_count": 99,
      "outputs": [
        {
          "output_type": "stream",
          "name": "stdout",
          "text": [
            "Accuracy: 92\n",
            "Accuracy: 0.9195\n",
            "Precision Score: 92\n",
            "Recall Score: 85\n",
            "F1 Score: 88\n",
            "Classification Report:\n",
            "               precision    recall  f1-score   support\n",
            "\n",
            "      stable      0.921     0.847     0.882       712\n",
            "    unstable      0.919     0.960     0.939      1288\n",
            "\n",
            "    accuracy                          0.919      2000\n",
            "   macro avg      0.920     0.903     0.911      2000\n",
            "weighted avg      0.920     0.919     0.919      2000\n",
            "\n",
            "Confusion Matrix:\n",
            " [[ 603  109]\n",
            " [  52 1236]]\n"
          ]
        }
      ]
    },
    {
      "cell_type": "code",
      "source": [
        "print(\"Training set score: {:.3f}\".format(xgc.score(normalised_train_df, y_train)))\n",
        "print(\"Test set score: {:.3f}\".format(xgc.score(normalised_test_df, y_test)))"
      ],
      "metadata": {
        "colab": {
          "base_uri": "https://localhost:8080/"
        },
        "id": "BoMo-KdHjNLU",
        "outputId": "f9205f62-bb6e-491a-c865-f1bed2e63811"
      },
      "execution_count": 100,
      "outputs": [
        {
          "output_type": "stream",
          "name": "stdout",
          "text": [
            "Training set score: 0.952\n",
            "Test set score: 0.919\n"
          ]
        }
      ]
    },
    {
      "cell_type": "markdown",
      "source": [
        "LightGBM Classifier"
      ],
      "metadata": {
        "id": "2KZ0tYxpdhLP"
      }
    },
    {
      "cell_type": "markdown",
      "source": [
        "Question 16"
      ],
      "metadata": {
        "id": "4fW82aRxgSuy"
      }
    },
    {
      "cell_type": "code",
      "source": [
        "from lightgbm import LGBMClassifier\n",
        "\n",
        "lgbclass= LGBMClassifier(random_state = 1)\n",
        "\n",
        "#fit on train set\n",
        "lgbclass.fit(normalised_train_df, y_train)"
      ],
      "metadata": {
        "colab": {
          "base_uri": "https://localhost:8080/"
        },
        "id": "nukH8mQZdysn",
        "outputId": "f49e4676-d4fb-4fd7-bd02-c7ef1b22d797"
      },
      "execution_count": 101,
      "outputs": [
        {
          "output_type": "execute_result",
          "data": {
            "text/plain": [
              "LGBMClassifier(random_state=1)"
            ]
          },
          "metadata": {},
          "execution_count": 101
        }
      ]
    },
    {
      "cell_type": "code",
      "source": [
        "#make prediction on test data\n",
        "lgbclass_pred = lgbclass.predict(normalised_test_df)\n",
        "lgbclass_pred"
      ],
      "metadata": {
        "colab": {
          "base_uri": "https://localhost:8080/"
        },
        "id": "gTbSwvm8eNL8",
        "outputId": "bad861e6-5af6-4ff8-cc94-3c149aa1ca35"
      },
      "execution_count": 102,
      "outputs": [
        {
          "output_type": "execute_result",
          "data": {
            "text/plain": [
              "array(['unstable', 'unstable', 'stable', ..., 'stable', 'unstable',\n",
              "       'unstable'], dtype=object)"
            ]
          },
          "metadata": {},
          "execution_count": 102
        }
      ]
    },
    {
      "cell_type": "markdown",
      "source": [
        "Measure Model Performance for LGBMClassifier"
      ],
      "metadata": {
        "id": "qEczR6mEeyp1"
      }
    },
    {
      "cell_type": "code",
      "source": [
        "#model accuracy\n",
        "lgb_accuracy = accuracy_score(y_test, lgbclass_pred)\n",
        "print('Accuracy: {}'.format(round(lgb_accuracy*100), 4))\n",
        "print('Accuracy: {}'.format(round(accuracy_score(y_test, lgbclass_pred), 4)))\n",
        "\n",
        "# precision\n",
        "lgb_precision = precision_score(y_test, lgbclass_pred, pos_label='stable')\n",
        "print('Precision Score: {}'.format(round(lgb_precision*100), 4))\n",
        "\n",
        "# recall\n",
        "lgb_recall = recall_score(y_test, lgbclass_pred, pos_label='stable')\n",
        "print('Recall Score: {}'.format(round(lgb_recall*100), 4))\n",
        "\n",
        "# F1 Score\n",
        "lgb_f1 = f1_score(y_test, lgbclass_pred, pos_label='stable')\n",
        "print('F1 Score: {}'.format(round(lgb_f1*100), 4))\n",
        "\n",
        "# classification report\n",
        "print('Classification Report:\\n', classification_report(y_test,lgbclass_pred, digits =3))\n",
        "\n",
        "#confusion matrix\n",
        "lgb_cnf_mat = confusion_matrix(y_test, lgbclass_pred)\n",
        "print('Confusion Matrix:\\n', lgb_cnf_mat)"
      ],
      "metadata": {
        "colab": {
          "base_uri": "https://localhost:8080/"
        },
        "id": "J7uAMceOe6ad",
        "outputId": "0015ae96-be22-4f48-8288-4ba75355a241"
      },
      "execution_count": 103,
      "outputs": [
        {
          "output_type": "stream",
          "name": "stdout",
          "text": [
            "Accuracy: 94\n",
            "Accuracy: 0.9375\n",
            "Precision Score: 93\n",
            "Recall Score: 89\n",
            "F1 Score: 91\n",
            "Classification Report:\n",
            "               precision    recall  f1-score   support\n",
            "\n",
            "      stable      0.930     0.892     0.910       712\n",
            "    unstable      0.942     0.963     0.952      1288\n",
            "\n",
            "    accuracy                          0.938      2000\n",
            "   macro avg      0.936     0.927     0.931      2000\n",
            "weighted avg      0.937     0.938     0.937      2000\n",
            "\n",
            "Confusion Matrix:\n",
            " [[ 635   77]\n",
            " [  48 1240]]\n"
          ]
        }
      ]
    },
    {
      "cell_type": "code",
      "source": [
        "print(\"Training set score: {:.3f}\".format(lgbclass.score(normalised_train_df, y_train)))\n",
        "print(\"Test set score: {:.3f}\".format(lgbclass.score(normalised_test_df, y_test)))"
      ],
      "metadata": {
        "colab": {
          "base_uri": "https://localhost:8080/"
        },
        "id": "HQvAn-Utiyq3",
        "outputId": "7d175ee7-285d-4d8a-ad75-0a00c53da6d7"
      },
      "execution_count": 104,
      "outputs": [
        {
          "output_type": "stream",
          "name": "stdout",
          "text": [
            "Training set score: 0.998\n",
            "Test set score: 0.938\n"
          ]
        }
      ]
    },
    {
      "cell_type": "markdown",
      "source": [
        "Question 17 and 18: From cell 14 to cell 17"
      ],
      "metadata": {
        "id": "Lt66uYTqjkOe"
      }
    },
    {
      "cell_type": "markdown",
      "source": [
        "ExtraTreeClassifier"
      ],
      "metadata": {
        "id": "uEFmKpe_guVB"
      }
    },
    {
      "cell_type": "code",
      "source": [
        "from sklearn.ensemble import ExtraTreesClassifier\n",
        "\n",
        "exc = ExtraTreesClassifier(random_state = 1)\n",
        "\n",
        "#fit on the train set\n",
        "exc.fit(normalised_train_df, y_train)"
      ],
      "metadata": {
        "colab": {
          "base_uri": "https://localhost:8080/"
        },
        "id": "7KBQbbIggdSE",
        "outputId": "886c2f85-4e42-41c0-a21b-c5ebfdb87c12"
      },
      "execution_count": 105,
      "outputs": [
        {
          "output_type": "execute_result",
          "data": {
            "text/plain": [
              "ExtraTreesClassifier(random_state=1)"
            ]
          },
          "metadata": {},
          "execution_count": 105
        }
      ]
    },
    {
      "cell_type": "code",
      "source": [
        "#make prediction on test data\n",
        "exc_pred = exc.predict(normalised_test_df)\n",
        "exc_pred"
      ],
      "metadata": {
        "colab": {
          "base_uri": "https://localhost:8080/"
        },
        "id": "RbUoeRnchI4e",
        "outputId": "5686ba54-4a84-4a5e-8e8d-fbf78b60d454"
      },
      "execution_count": 106,
      "outputs": [
        {
          "output_type": "execute_result",
          "data": {
            "text/plain": [
              "array(['unstable', 'unstable', 'stable', ..., 'stable', 'unstable',\n",
              "       'unstable'], dtype=object)"
            ]
          },
          "metadata": {},
          "execution_count": 106
        }
      ]
    },
    {
      "cell_type": "markdown",
      "source": [
        "Measure Model Performance for ExtraTreesClassifier"
      ],
      "metadata": {
        "id": "J0WGAWVMhBTV"
      }
    },
    {
      "cell_type": "code",
      "source": [
        "#model accuracy\n",
        "exc_accuracy = accuracy_score(y_test, exc_pred)\n",
        "print('Accuracy: {}'.format(round(exc_accuracy*100), 4))\n",
        "print('Accuracy: {}'.format(round(accuracy_score(y_test, exc_pred), 4)))\n",
        "\n",
        "# precision\n",
        "exc_precision = precision_score(y_test, exc_pred, pos_label='stable')\n",
        "print('Precision Score: {}'.format(round(exc_precision*100), 4))\n",
        "\n",
        "# recall\n",
        "exc_recall = recall_score(y_test, exc_pred, pos_label='stable')\n",
        "print('Recall Score: {}'.format(round(exc_recall*100), 4))\n",
        "\n",
        "# F1 Score\n",
        "exc_f1 = f1_score(y_test, exc_pred, pos_label='stable')\n",
        "print('F1 Score: {}'.format(round(exc_f1*100), 4))\n",
        "\n",
        "# classification report\n",
        "print('Classification Report:\\n', classification_report(y_test, exc_pred, digits =3))\n",
        "\n",
        "#confusion matrix\n",
        "exc_cnf_mat = confusion_matrix(y_test, exc_pred)\n",
        "print('Confusion Matrix:\\n', exc_cnf_mat)"
      ],
      "metadata": {
        "colab": {
          "base_uri": "https://localhost:8080/"
        },
        "id": "x0LjsJXjhkVY",
        "outputId": "f0db662f-ed02-4fd9-fac1-5bd545be7265"
      },
      "execution_count": 107,
      "outputs": [
        {
          "output_type": "stream",
          "name": "stdout",
          "text": [
            "Accuracy: 93\n",
            "Accuracy: 0.928\n",
            "Precision Score: 94\n",
            "Recall Score: 85\n",
            "F1 Score: 89\n",
            "Classification Report:\n",
            "               precision    recall  f1-score   support\n",
            "\n",
            "      stable      0.941     0.851     0.894       712\n",
            "    unstable      0.922     0.970     0.946      1288\n",
            "\n",
            "    accuracy                          0.928      2000\n",
            "   macro avg      0.931     0.911     0.920      2000\n",
            "weighted avg      0.929     0.928     0.927      2000\n",
            "\n",
            "Confusion Matrix:\n",
            " [[ 606  106]\n",
            " [  38 1250]]\n"
          ]
        }
      ]
    },
    {
      "cell_type": "code",
      "source": [
        "print(\"Training set score: {:.3f}\".format(exc.score(normalised_train_df, y_train)))\n",
        "print(\"Test set score: {:.3f}\".format(exc.score(normalised_test_df, y_test)))"
      ],
      "metadata": {
        "colab": {
          "base_uri": "https://localhost:8080/"
        },
        "id": "WzxPPv9KibUy",
        "outputId": "eb6ed882-6d62-49b5-9fa2-64ccd5d24a6e"
      },
      "execution_count": 108,
      "outputs": [
        {
          "output_type": "stream",
          "name": "stdout",
          "text": [
            "Training set score: 1.000\n",
            "Test set score: 0.928\n"
          ]
        }
      ]
    },
    {
      "cell_type": "markdown",
      "source": [
        "Improving ExtraTreesClassifier"
      ],
      "metadata": {
        "id": "zAlBFIudj_ZU"
      }
    },
    {
      "cell_type": "code",
      "source": [
        "#combination of hyperparameters\n",
        "n_estimators = [50, 100, 300, 500, 1000]\n",
        "\n",
        "min_samples_split = [2, 3, 5, 7, 9]\n",
        "\n",
        "min_samples_leaf = [1, 2, 4, 6, 8]\n",
        "\n",
        "max_features = ['auto', 'sqrt', 'log2', None] \n",
        "\n",
        "hyperparameter_grid = {'n_estimators': n_estimators,\n",
        "\n",
        "                       'min_samples_leaf': min_samples_leaf,\n",
        "\n",
        "                       'min_samples_split': min_samples_split,\n",
        "\n",
        "                       'max_features': max_features}"
      ],
      "metadata": {
        "id": "yzX8Oxf2kBFd"
      },
      "execution_count": 109,
      "outputs": []
    },
    {
      "cell_type": "code",
      "source": [
        "from sklearn.model_selection import RandomizedSearchCV\n",
        "\n",
        "#exc = ExtraTreesClassifier(random_state = 1)\n",
        "\n",
        "#set up randomsearch with 5folds\n",
        "\n",
        "ramcv = RandomizedSearchCV(estimator = exc, \n",
        "                              param_distributions = hyperparameter_grid, cv=5, n_iter=10, scoring = 'accuracy', n_jobs = -1, verbose = 1,\n",
        "                              random_state = 1)"
      ],
      "metadata": {
        "id": "2nSzbqbAk9Zx"
      },
      "execution_count": 110,
      "outputs": []
    },
    {
      "cell_type": "code",
      "source": [
        "#fit on the training data\n",
        "search = ramcv.fit(normalised_train_df, y_train)"
      ],
      "metadata": {
        "colab": {
          "base_uri": "https://localhost:8080/"
        },
        "id": "UeX_KMjkl9Yr",
        "outputId": "1c8b8dd7-8bc9-47e5-8961-fd029adb87ce"
      },
      "execution_count": 111,
      "outputs": [
        {
          "output_type": "stream",
          "name": "stdout",
          "text": [
            "Fitting 5 folds for each of 10 candidates, totalling 50 fits\n"
          ]
        }
      ]
    },
    {
      "cell_type": "code",
      "source": [
        "#get best parameters\n",
        "search.best_params_\n",
        "     "
      ],
      "metadata": {
        "colab": {
          "base_uri": "https://localhost:8080/"
        },
        "id": "_HKhw5ZRmxIx",
        "outputId": "5c5c8976-91ca-4c85-8cc2-c7007c6e6bbe"
      },
      "execution_count": 112,
      "outputs": [
        {
          "output_type": "execute_result",
          "data": {
            "text/plain": [
              "{'n_estimators': 1000,\n",
              " 'min_samples_split': 2,\n",
              " 'min_samples_leaf': 8,\n",
              " 'max_features': None}"
            ]
          },
          "metadata": {},
          "execution_count": 112
        }
      ]
    },
    {
      "cell_type": "code",
      "source": [
        "##train the dataset using tree model with the best paraneters\n",
        "tree = ExtraTreesClassifier(**search.best_params_, random_state = 1)\n",
        "tree.fit(normalised_train_df, y_train)\n",
        "predict5 = tree.predict(normalised_test_df)\n",
        "print('Predict: {}'.format(predict5))\n",
        "print('Accuracy: {}'.format(accuracy_score(y_test, predict5)))"
      ],
      "metadata": {
        "colab": {
          "base_uri": "https://localhost:8080/"
        },
        "id": "W_WQGOz2nG_8",
        "outputId": "cddea0c3-65a1-4303-c7fa-32b92f76b78e"
      },
      "execution_count": 113,
      "outputs": [
        {
          "output_type": "stream",
          "name": "stdout",
          "text": [
            "Predict: ['unstable' 'unstable' 'stable' ... 'stable' 'unstable' 'unstable']\n",
            "Accuracy: 0.927\n"
          ]
        }
      ]
    },
    {
      "cell_type": "code",
      "source": [
        "normalised_train_df.head()"
      ],
      "metadata": {
        "colab": {
          "base_uri": "https://localhost:8080/",
          "height": 270
        },
        "id": "ohervYxusKqH",
        "outputId": "69a6f63d-eb63-452b-ddd9-1e7746274c89"
      },
      "execution_count": 114,
      "outputs": [
        {
          "output_type": "execute_result",
          "data": {
            "text/plain": [
              "       tau1      tau2      tau3      tau4        p1        p2        p3  \\\n",
              "0  0.367327 -0.986042  0.650447  1.547527 -0.291490  0.061535  1.293862   \n",
              "1 -0.064659  0.089437  1.035079 -1.641494  0.619865 -0.067235 -1.502925   \n",
              "2 -1.467850  1.298418 -0.502536  1.166046 -0.180521  0.490603  0.682560   \n",
              "3  0.820081  0.529920  1.299657 -1.141975 -0.812854 -0.763632  1.521579   \n",
              "4  0.665424 -1.425627  0.312300  0.919137 -1.614296  0.760315  1.422019   \n",
              "\n",
              "         p4        g1        g2        g3        g4  \n",
              "0 -0.845074  0.160918  0.339859  0.585568  0.492239  \n",
              "1  0.486613 -0.293143 -1.558488  1.429649 -1.443521  \n",
              "2 -0.855302  1.399350  1.451534 -1.045743  0.492489  \n",
              "3  0.658780 -0.958319  1.361958  1.604140  0.275303  \n",
              "4  0.639243  1.676895  0.695660  1.137504 -1.312575  "
            ],
            "text/html": [
              "\n",
              "  <div id=\"df-289d4c5e-7b93-46a5-b253-abdd1e06ff95\">\n",
              "    <div class=\"colab-df-container\">\n",
              "      <div>\n",
              "<style scoped>\n",
              "    .dataframe tbody tr th:only-of-type {\n",
              "        vertical-align: middle;\n",
              "    }\n",
              "\n",
              "    .dataframe tbody tr th {\n",
              "        vertical-align: top;\n",
              "    }\n",
              "\n",
              "    .dataframe thead th {\n",
              "        text-align: right;\n",
              "    }\n",
              "</style>\n",
              "<table border=\"1\" class=\"dataframe\">\n",
              "  <thead>\n",
              "    <tr style=\"text-align: right;\">\n",
              "      <th></th>\n",
              "      <th>tau1</th>\n",
              "      <th>tau2</th>\n",
              "      <th>tau3</th>\n",
              "      <th>tau4</th>\n",
              "      <th>p1</th>\n",
              "      <th>p2</th>\n",
              "      <th>p3</th>\n",
              "      <th>p4</th>\n",
              "      <th>g1</th>\n",
              "      <th>g2</th>\n",
              "      <th>g3</th>\n",
              "      <th>g4</th>\n",
              "    </tr>\n",
              "  </thead>\n",
              "  <tbody>\n",
              "    <tr>\n",
              "      <th>0</th>\n",
              "      <td>0.367327</td>\n",
              "      <td>-0.986042</td>\n",
              "      <td>0.650447</td>\n",
              "      <td>1.547527</td>\n",
              "      <td>-0.291490</td>\n",
              "      <td>0.061535</td>\n",
              "      <td>1.293862</td>\n",
              "      <td>-0.845074</td>\n",
              "      <td>0.160918</td>\n",
              "      <td>0.339859</td>\n",
              "      <td>0.585568</td>\n",
              "      <td>0.492239</td>\n",
              "    </tr>\n",
              "    <tr>\n",
              "      <th>1</th>\n",
              "      <td>-0.064659</td>\n",
              "      <td>0.089437</td>\n",
              "      <td>1.035079</td>\n",
              "      <td>-1.641494</td>\n",
              "      <td>0.619865</td>\n",
              "      <td>-0.067235</td>\n",
              "      <td>-1.502925</td>\n",
              "      <td>0.486613</td>\n",
              "      <td>-0.293143</td>\n",
              "      <td>-1.558488</td>\n",
              "      <td>1.429649</td>\n",
              "      <td>-1.443521</td>\n",
              "    </tr>\n",
              "    <tr>\n",
              "      <th>2</th>\n",
              "      <td>-1.467850</td>\n",
              "      <td>1.298418</td>\n",
              "      <td>-0.502536</td>\n",
              "      <td>1.166046</td>\n",
              "      <td>-0.180521</td>\n",
              "      <td>0.490603</td>\n",
              "      <td>0.682560</td>\n",
              "      <td>-0.855302</td>\n",
              "      <td>1.399350</td>\n",
              "      <td>1.451534</td>\n",
              "      <td>-1.045743</td>\n",
              "      <td>0.492489</td>\n",
              "    </tr>\n",
              "    <tr>\n",
              "      <th>3</th>\n",
              "      <td>0.820081</td>\n",
              "      <td>0.529920</td>\n",
              "      <td>1.299657</td>\n",
              "      <td>-1.141975</td>\n",
              "      <td>-0.812854</td>\n",
              "      <td>-0.763632</td>\n",
              "      <td>1.521579</td>\n",
              "      <td>0.658780</td>\n",
              "      <td>-0.958319</td>\n",
              "      <td>1.361958</td>\n",
              "      <td>1.604140</td>\n",
              "      <td>0.275303</td>\n",
              "    </tr>\n",
              "    <tr>\n",
              "      <th>4</th>\n",
              "      <td>0.665424</td>\n",
              "      <td>-1.425627</td>\n",
              "      <td>0.312300</td>\n",
              "      <td>0.919137</td>\n",
              "      <td>-1.614296</td>\n",
              "      <td>0.760315</td>\n",
              "      <td>1.422019</td>\n",
              "      <td>0.639243</td>\n",
              "      <td>1.676895</td>\n",
              "      <td>0.695660</td>\n",
              "      <td>1.137504</td>\n",
              "      <td>-1.312575</td>\n",
              "    </tr>\n",
              "  </tbody>\n",
              "</table>\n",
              "</div>\n",
              "      <button class=\"colab-df-convert\" onclick=\"convertToInteractive('df-289d4c5e-7b93-46a5-b253-abdd1e06ff95')\"\n",
              "              title=\"Convert this dataframe to an interactive table.\"\n",
              "              style=\"display:none;\">\n",
              "        \n",
              "  <svg xmlns=\"http://www.w3.org/2000/svg\" height=\"24px\"viewBox=\"0 0 24 24\"\n",
              "       width=\"24px\">\n",
              "    <path d=\"M0 0h24v24H0V0z\" fill=\"none\"/>\n",
              "    <path d=\"M18.56 5.44l.94 2.06.94-2.06 2.06-.94-2.06-.94-.94-2.06-.94 2.06-2.06.94zm-11 1L8.5 8.5l.94-2.06 2.06-.94-2.06-.94L8.5 2.5l-.94 2.06-2.06.94zm10 10l.94 2.06.94-2.06 2.06-.94-2.06-.94-.94-2.06-.94 2.06-2.06.94z\"/><path d=\"M17.41 7.96l-1.37-1.37c-.4-.4-.92-.59-1.43-.59-.52 0-1.04.2-1.43.59L10.3 9.45l-7.72 7.72c-.78.78-.78 2.05 0 2.83L4 21.41c.39.39.9.59 1.41.59.51 0 1.02-.2 1.41-.59l7.78-7.78 2.81-2.81c.8-.78.8-2.07 0-2.86zM5.41 20L4 18.59l7.72-7.72 1.47 1.35L5.41 20z\"/>\n",
              "  </svg>\n",
              "      </button>\n",
              "      \n",
              "  <style>\n",
              "    .colab-df-container {\n",
              "      display:flex;\n",
              "      flex-wrap:wrap;\n",
              "      gap: 12px;\n",
              "    }\n",
              "\n",
              "    .colab-df-convert {\n",
              "      background-color: #E8F0FE;\n",
              "      border: none;\n",
              "      border-radius: 50%;\n",
              "      cursor: pointer;\n",
              "      display: none;\n",
              "      fill: #1967D2;\n",
              "      height: 32px;\n",
              "      padding: 0 0 0 0;\n",
              "      width: 32px;\n",
              "    }\n",
              "\n",
              "    .colab-df-convert:hover {\n",
              "      background-color: #E2EBFA;\n",
              "      box-shadow: 0px 1px 2px rgba(60, 64, 67, 0.3), 0px 1px 3px 1px rgba(60, 64, 67, 0.15);\n",
              "      fill: #174EA6;\n",
              "    }\n",
              "\n",
              "    [theme=dark] .colab-df-convert {\n",
              "      background-color: #3B4455;\n",
              "      fill: #D2E3FC;\n",
              "    }\n",
              "\n",
              "    [theme=dark] .colab-df-convert:hover {\n",
              "      background-color: #434B5C;\n",
              "      box-shadow: 0px 1px 3px 1px rgba(0, 0, 0, 0.15);\n",
              "      filter: drop-shadow(0px 1px 2px rgba(0, 0, 0, 0.3));\n",
              "      fill: #FFFFFF;\n",
              "    }\n",
              "  </style>\n",
              "\n",
              "      <script>\n",
              "        const buttonEl =\n",
              "          document.querySelector('#df-289d4c5e-7b93-46a5-b253-abdd1e06ff95 button.colab-df-convert');\n",
              "        buttonEl.style.display =\n",
              "          google.colab.kernel.accessAllowed ? 'block' : 'none';\n",
              "\n",
              "        async function convertToInteractive(key) {\n",
              "          const element = document.querySelector('#df-289d4c5e-7b93-46a5-b253-abdd1e06ff95');\n",
              "          const dataTable =\n",
              "            await google.colab.kernel.invokeFunction('convertToInteractive',\n",
              "                                                     [key], {});\n",
              "          if (!dataTable) return;\n",
              "\n",
              "          const docLinkHtml = 'Like what you see? Visit the ' +\n",
              "            '<a target=\"_blank\" href=https://colab.research.google.com/notebooks/data_table.ipynb>data table notebook</a>'\n",
              "            + ' to learn more about interactive tables.';\n",
              "          element.innerHTML = '';\n",
              "          dataTable['output_type'] = 'display_data';\n",
              "          await google.colab.output.renderOutput(dataTable, element);\n",
              "          const docLink = document.createElement('div');\n",
              "          docLink.innerHTML = docLinkHtml;\n",
              "          element.appendChild(docLink);\n",
              "        }\n",
              "      </script>\n",
              "    </div>\n",
              "  </div>\n",
              "  "
            ]
          },
          "metadata": {},
          "execution_count": 114
        }
      ]
    },
    {
      "cell_type": "code",
      "source": [
        "#get best score\n",
        "search.best_score_"
      ],
      "metadata": {
        "colab": {
          "base_uri": "https://localhost:8080/"
        },
        "id": "_B2ZnVpRsjiM",
        "outputId": "e499dd32-58fa-418b-cb26-f70d1ac4435f"
      },
      "execution_count": 115,
      "outputs": [
        {
          "output_type": "execute_result",
          "data": {
            "text/plain": [
              "0.9241249999999999"
            ]
          },
          "metadata": {},
          "execution_count": 115
        }
      ]
    },
    {
      "cell_type": "markdown",
      "source": [
        "Question 20"
      ],
      "metadata": {
        "id": "0_uFGmrErfO2"
      }
    },
    {
      "cell_type": "code",
      "source": [
        "def get_feature_importance(model, feat, col_name):\n",
        "  #this function returns the importance of every feature\n",
        "  importance = pd.Series(model.feature_importances_, feat.columns).sort_values()\n",
        "  importance_df = pd.DataFrame(importance).reset_index()\n",
        "  importance_df.columns = ['Features', col_name]\n",
        "  importance_df[col_name].round(3)\n",
        "  return importance_df"
      ],
      "metadata": {
        "id": "W_J5kLheoOaY"
      },
      "execution_count": 117,
      "outputs": []
    },
    {
      "cell_type": "code",
      "source": [
        "feature_importance = get_feature_importance(tree, normalised_train_df, 'Feature_Importance')\n",
        "feature_importance"
      ],
      "metadata": {
        "colab": {
          "base_uri": "https://localhost:8080/",
          "height": 426
        },
        "id": "NBoA6kIRorna",
        "outputId": "0b1d37b4-c8de-4518-9d34-e5c670b6fa34"
      },
      "execution_count": 118,
      "outputs": [
        {
          "output_type": "execute_result",
          "data": {
            "text/plain": [
              "   Features  Feature_Importance\n",
              "0        p1            0.003683\n",
              "1        p4            0.004962\n",
              "2        p2            0.005337\n",
              "3        p3            0.005429\n",
              "4        g1            0.102562\n",
              "5        g2            0.107578\n",
              "6        g4            0.109541\n",
              "7        g3            0.113063\n",
              "8      tau3            0.134680\n",
              "9      tau4            0.135417\n",
              "10     tau1            0.137240\n",
              "11     tau2            0.140508"
            ],
            "text/html": [
              "\n",
              "  <div id=\"df-014221e9-4a2f-46f6-af6a-9e7abe7c7eae\">\n",
              "    <div class=\"colab-df-container\">\n",
              "      <div>\n",
              "<style scoped>\n",
              "    .dataframe tbody tr th:only-of-type {\n",
              "        vertical-align: middle;\n",
              "    }\n",
              "\n",
              "    .dataframe tbody tr th {\n",
              "        vertical-align: top;\n",
              "    }\n",
              "\n",
              "    .dataframe thead th {\n",
              "        text-align: right;\n",
              "    }\n",
              "</style>\n",
              "<table border=\"1\" class=\"dataframe\">\n",
              "  <thead>\n",
              "    <tr style=\"text-align: right;\">\n",
              "      <th></th>\n",
              "      <th>Features</th>\n",
              "      <th>Feature_Importance</th>\n",
              "    </tr>\n",
              "  </thead>\n",
              "  <tbody>\n",
              "    <tr>\n",
              "      <th>0</th>\n",
              "      <td>p1</td>\n",
              "      <td>0.003683</td>\n",
              "    </tr>\n",
              "    <tr>\n",
              "      <th>1</th>\n",
              "      <td>p4</td>\n",
              "      <td>0.004962</td>\n",
              "    </tr>\n",
              "    <tr>\n",
              "      <th>2</th>\n",
              "      <td>p2</td>\n",
              "      <td>0.005337</td>\n",
              "    </tr>\n",
              "    <tr>\n",
              "      <th>3</th>\n",
              "      <td>p3</td>\n",
              "      <td>0.005429</td>\n",
              "    </tr>\n",
              "    <tr>\n",
              "      <th>4</th>\n",
              "      <td>g1</td>\n",
              "      <td>0.102562</td>\n",
              "    </tr>\n",
              "    <tr>\n",
              "      <th>5</th>\n",
              "      <td>g2</td>\n",
              "      <td>0.107578</td>\n",
              "    </tr>\n",
              "    <tr>\n",
              "      <th>6</th>\n",
              "      <td>g4</td>\n",
              "      <td>0.109541</td>\n",
              "    </tr>\n",
              "    <tr>\n",
              "      <th>7</th>\n",
              "      <td>g3</td>\n",
              "      <td>0.113063</td>\n",
              "    </tr>\n",
              "    <tr>\n",
              "      <th>8</th>\n",
              "      <td>tau3</td>\n",
              "      <td>0.134680</td>\n",
              "    </tr>\n",
              "    <tr>\n",
              "      <th>9</th>\n",
              "      <td>tau4</td>\n",
              "      <td>0.135417</td>\n",
              "    </tr>\n",
              "    <tr>\n",
              "      <th>10</th>\n",
              "      <td>tau1</td>\n",
              "      <td>0.137240</td>\n",
              "    </tr>\n",
              "    <tr>\n",
              "      <th>11</th>\n",
              "      <td>tau2</td>\n",
              "      <td>0.140508</td>\n",
              "    </tr>\n",
              "  </tbody>\n",
              "</table>\n",
              "</div>\n",
              "      <button class=\"colab-df-convert\" onclick=\"convertToInteractive('df-014221e9-4a2f-46f6-af6a-9e7abe7c7eae')\"\n",
              "              title=\"Convert this dataframe to an interactive table.\"\n",
              "              style=\"display:none;\">\n",
              "        \n",
              "  <svg xmlns=\"http://www.w3.org/2000/svg\" height=\"24px\"viewBox=\"0 0 24 24\"\n",
              "       width=\"24px\">\n",
              "    <path d=\"M0 0h24v24H0V0z\" fill=\"none\"/>\n",
              "    <path d=\"M18.56 5.44l.94 2.06.94-2.06 2.06-.94-2.06-.94-.94-2.06-.94 2.06-2.06.94zm-11 1L8.5 8.5l.94-2.06 2.06-.94-2.06-.94L8.5 2.5l-.94 2.06-2.06.94zm10 10l.94 2.06.94-2.06 2.06-.94-2.06-.94-.94-2.06-.94 2.06-2.06.94z\"/><path d=\"M17.41 7.96l-1.37-1.37c-.4-.4-.92-.59-1.43-.59-.52 0-1.04.2-1.43.59L10.3 9.45l-7.72 7.72c-.78.78-.78 2.05 0 2.83L4 21.41c.39.39.9.59 1.41.59.51 0 1.02-.2 1.41-.59l7.78-7.78 2.81-2.81c.8-.78.8-2.07 0-2.86zM5.41 20L4 18.59l7.72-7.72 1.47 1.35L5.41 20z\"/>\n",
              "  </svg>\n",
              "      </button>\n",
              "      \n",
              "  <style>\n",
              "    .colab-df-container {\n",
              "      display:flex;\n",
              "      flex-wrap:wrap;\n",
              "      gap: 12px;\n",
              "    }\n",
              "\n",
              "    .colab-df-convert {\n",
              "      background-color: #E8F0FE;\n",
              "      border: none;\n",
              "      border-radius: 50%;\n",
              "      cursor: pointer;\n",
              "      display: none;\n",
              "      fill: #1967D2;\n",
              "      height: 32px;\n",
              "      padding: 0 0 0 0;\n",
              "      width: 32px;\n",
              "    }\n",
              "\n",
              "    .colab-df-convert:hover {\n",
              "      background-color: #E2EBFA;\n",
              "      box-shadow: 0px 1px 2px rgba(60, 64, 67, 0.3), 0px 1px 3px 1px rgba(60, 64, 67, 0.15);\n",
              "      fill: #174EA6;\n",
              "    }\n",
              "\n",
              "    [theme=dark] .colab-df-convert {\n",
              "      background-color: #3B4455;\n",
              "      fill: #D2E3FC;\n",
              "    }\n",
              "\n",
              "    [theme=dark] .colab-df-convert:hover {\n",
              "      background-color: #434B5C;\n",
              "      box-shadow: 0px 1px 3px 1px rgba(0, 0, 0, 0.15);\n",
              "      filter: drop-shadow(0px 1px 2px rgba(0, 0, 0, 0.3));\n",
              "      fill: #FFFFFF;\n",
              "    }\n",
              "  </style>\n",
              "\n",
              "      <script>\n",
              "        const buttonEl =\n",
              "          document.querySelector('#df-014221e9-4a2f-46f6-af6a-9e7abe7c7eae button.colab-df-convert');\n",
              "        buttonEl.style.display =\n",
              "          google.colab.kernel.accessAllowed ? 'block' : 'none';\n",
              "\n",
              "        async function convertToInteractive(key) {\n",
              "          const element = document.querySelector('#df-014221e9-4a2f-46f6-af6a-9e7abe7c7eae');\n",
              "          const dataTable =\n",
              "            await google.colab.kernel.invokeFunction('convertToInteractive',\n",
              "                                                     [key], {});\n",
              "          if (!dataTable) return;\n",
              "\n",
              "          const docLinkHtml = 'Like what you see? Visit the ' +\n",
              "            '<a target=\"_blank\" href=https://colab.research.google.com/notebooks/data_table.ipynb>data table notebook</a>'\n",
              "            + ' to learn more about interactive tables.';\n",
              "          element.innerHTML = '';\n",
              "          dataTable['output_type'] = 'display_data';\n",
              "          await google.colab.output.renderOutput(dataTable, element);\n",
              "          const docLink = document.createElement('div');\n",
              "          docLink.innerHTML = docLinkHtml;\n",
              "          element.appendChild(docLink);\n",
              "        }\n",
              "      </script>\n",
              "    </div>\n",
              "  </div>\n",
              "  "
            ]
          },
          "metadata": {},
          "execution_count": 118
        }
      ]
    },
    {
      "cell_type": "code",
      "source": [
        "plt.barh(feature_importance.Features, feature_importance.Feature_Importance)\n",
        "plt.show()"
      ],
      "metadata": {
        "colab": {
          "base_uri": "https://localhost:8080/",
          "height": 265
        },
        "id": "IE0E018-OrgK",
        "outputId": "0bae39c8-cb4f-4cce-eb54-f6d22bf3fc6b"
      },
      "execution_count": 120,
      "outputs": [
        {
          "output_type": "display_data",
          "data": {
            "text/plain": [
              "<Figure size 432x288 with 1 Axes>"
            ],
            "image/png": "[encoded data removed]"
          },
          "metadata": {
            "needs_background": "light"
          }
        }
      ]
    },
    {
      "cell_type": "code",
      "source": [
        "#classification report\n",
        "print('Classification Report:\\n', classification_report(y_test,predict5, digits =4))"
      ],
      "metadata": {
        "colab": {
          "base_uri": "https://localhost:8080/"
        },
        "id": "eK1XE30csC1B",
        "outputId": "e576207a-bf3a-4e40-f0ad-cd93cf5cb051"
      },
      "execution_count": 121,
      "outputs": [
        {
          "output_type": "stream",
          "name": "stdout",
          "text": [
            "Classification Report:\n",
            "               precision    recall  f1-score   support\n",
            "\n",
            "      stable     0.9211    0.8694    0.8945       712\n",
            "    unstable     0.9300    0.9589    0.9442      1288\n",
            "\n",
            "    accuracy                         0.9270      2000\n",
            "   macro avg     0.9256    0.9141    0.9193      2000\n",
            "weighted avg     0.9268    0.9270    0.9265      2000\n",
            "\n"
          ]
        }
      ]
    }
  ]
}